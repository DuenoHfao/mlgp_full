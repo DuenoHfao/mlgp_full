{
 "cells": [
  {
   "cell_type": "code",
   "execution_count": 25,
   "id": "db65f68d",
   "metadata": {},
   "outputs": [],
   "source": [
    "import os\n",
    "import cv2\n",
    "import shutil\n",
    "import random\n",
    "from pathlib import Path\n",
    "from ultralytics import YOLO\n"
   ]
  },
  {
   "cell_type": "code",
   "execution_count": 29,
   "id": "70eeb6bc",
   "metadata": {},
   "outputs": [
    {
     "name": "stdout",
     "output_type": "stream",
     "text": [
      "{'People': 0, 'Motorbike': 1, 'Cup': 2, 'Bicycle': 3, 'Chair': 4, 'Boat': 5, 'Table': 6, 'Car': 7, 'Bottle': 8, 'Bus': 9, 'Cat': 10, 'Dog': 11}\n"
     ]
    }
   ],
   "source": [
    "IMG_PATH = Path(r'./img')\n",
    "train_val_test = (0.8,0.1,0.1)\n",
    "ANNOTATION_PATH = Path(r'./annotation')\n",
    "YOLO_ANNOTATION = Path(r'./yolo_annotation')\n",
    "\n",
    "class_dict = {category_name: idx for idx, category_name in enumerate(os.listdir(IMG_PATH))}\n",
    "print(class_dict)"
   ]
  },
  {
   "cell_type": "code",
   "execution_count": 35,
   "id": "cc2af254",
   "metadata": {},
   "outputs": [
    {
     "name": "stderr",
     "output_type": "stream",
     "text": [
      "libpng warning: iCCP: known incorrect sRGB profile\n"
     ]
    },
    {
     "name": "stdout",
     "output_type": "stream",
     "text": [
      "annotation/Bicycle/2015_00391.jpg.txt cannot be read.\n"
     ]
    },
    {
     "name": "stderr",
     "output_type": "stream",
     "text": [
      "[ WARN:0@3837.731] global loadsave.cpp:268 findDecoder imread_('img/Bicycle/2015_00391.jpg'): can't open/read file: check file path/integrity\n",
      "libpng warning: iCCP: known incorrect sRGB profile\n",
      "libpng warning: iCCP: cHRM chunk does not match sRGB\n",
      "libpng warning: iCCP: known incorrect sRGB profile\n",
      "libpng warning: iCCP: cHRM chunk does not match sRGB\n",
      "libpng warning: iCCP: known incorrect sRGB profile\n",
      "libpng warning: iCCP: known incorrect sRGB profile\n",
      "libpng warning: iCCP: known incorrect sRGB profile\n",
      "libpng warning: iCCP: known incorrect sRGB profile\n",
      "libpng warning: iCCP: known incorrect sRGB profile\n"
     ]
    }
   ],
   "source": [
    "def corresponding_image_path(folder_path, annotaion_path):\n",
    "    file_title, _ = os.path.splitext(annotaion_path)\n",
    "    return IMG_PATH / folder_path / file_title\n",
    "\n",
    "def pascal_to_yolo():\n",
    "    for sub_category in os.listdir(ANNOTATION_PATH):\n",
    "        folder_path = ANNOTATION_PATH / sub_category\n",
    "        for file_name in os.listdir(folder_path):\n",
    "            file_path = folder_path / file_name\n",
    "            \n",
    "            yolo_annotation_path = YOLO_ANNOTATION/sub_category/file_name\n",
    "            if os.path.isfile(yolo_annotation_path):\n",
    "                continue\n",
    "\n",
    "            os.makedirs(YOLO_ANNOTATION/sub_category, exist_ok=True)\n",
    "\n",
    "            image_path = corresponding_image_path(sub_category, file_name)\n",
    "            img = cv2.imread(image_path)\n",
    "            if img is None:\n",
    "                print(f\"{file_path} cannot be read.\")\n",
    "                continue\n",
    "\n",
    "            img_width, img_height = img.shape[:2]\n",
    "\n",
    "            with open(file_path, 'r') as anno_file:\n",
    "                pascal_data = anno_file.readlines()[1:]\n",
    "\n",
    "            pascal_num = list(map(lambda s: s.strip().split(\" \")[:5], pascal_data))\n",
    "            \n",
    "            yolo_format = []\n",
    "            for indv_bounding_coordinates in pascal_num:\n",
    "                indv_bounding_coordinates[0] = class_dict[indv_bounding_coordinates[0]]\n",
    "                indv_bounding_coordinates[1:] = list(map(int, indv_bounding_coordinates[1:]))\n",
    "\n",
    "                \n",
    "                class_category = indv_bounding_coordinates[0]\n",
    "                x_ctr = (indv_bounding_coordinates[1] + indv_bounding_coordinates[3]/2) / img_width\n",
    "                y_ctr = (indv_bounding_coordinates[2] + indv_bounding_coordinates[4]/2) / img_height\n",
    "                width = (indv_bounding_coordinates[3]) / img_width\n",
    "                height = (indv_bounding_coordinates[4]) / img_height\n",
    "\n",
    "                yolo_format.append([class_category, x_ctr, y_ctr, width, height]) \n",
    "\n",
    "            with open(yolo_annotation_path, 'w') as yolo_writer:\n",
    "                for data in yolo_format:\n",
    "                    yolo_writer.write(f\"{' '.join(list(map(str, data)))}\\n\")\n",
    "                \n",
    "            \n",
    "\n",
    "pascal_to_yolo()"
   ]
  },
  {
   "cell_type": "code",
   "execution_count": null,
   "id": "3674983e",
   "metadata": {},
   "outputs": [],
   "source": [
    "\n",
    "image_files = list((dataset_path / \"images\").glob(\"*.jpg\"))  # or .png\n",
    "random.shuffle(image_files)\n",
    "split_idx = int(len(image_files) * split_ratio)\n",
    "train_images = image_files[:split_idx]\n",
    "val_images = image_files[split_idx:]\n",
    "\n",
    "def copy_split(images, split_name):\n",
    "    for img_path in images:\n",
    "        label_path = dataset_path / \"labels\" / (img_path.stem + \".txt\")\n",
    "        if label_path.exists():\n",
    "            shutil.copy(img_path, yolo_data_path / split_name / \"images\" / img_path.name)\n",
    "            shutil.copy(label_path, yolo_data_path / split_name / \"labels\" / label_path.name)\n",
    "\n",
    "copy_split(train_images, \"train\")\n",
    "copy_split(val_images, \"val\")\n"
   ]
  },
  {
   "cell_type": "code",
   "execution_count": null,
   "id": "d0a9dc61",
   "metadata": {},
   "outputs": [],
   "source": [
    "\n",
    "# === STEP 3: CREATE YOLO CONFIG FILE ===\n",
    "data_yaml = yolo_data_path / \"data.yaml\"\n",
    "data_yaml.write_text(f\"\"\"\\\n",
    "path: {yolo_data_path}\n",
    "train: train/images\n",
    "val: val/images\n",
    "names: {classes}\n",
    "\"\"\")\n"
   ]
  },
  {
   "cell_type": "code",
   "execution_count": null,
   "id": "124f338c",
   "metadata": {},
   "outputs": [],
   "source": [
    "\n",
    "# === STEP 4: TRAIN YOLOv8 MODEL ===\n",
    "# You can use yolov8n.yaml, yolov8s.yaml, yolov8m.yaml, etc.\n",
    "model = YOLO(\"yolov8n.pt\")  # Using pretrained YOLOv8n weights\n",
    "\n",
    "model.train(\n",
    "    data=str(data_yaml),\n",
    "    epochs=50,\n",
    "    imgsz=640,\n",
    "    batch=16,\n",
    "    name=\"custom_yolov8n_run\"\n",
    ")\n"
   ]
  }
 ],
 "metadata": {
  "kernelspec": {
   "display_name": ".venv",
   "language": "python",
   "name": "python3"
  },
  "language_info": {
   "codemirror_mode": {
    "name": "ipython",
    "version": 3
   },
   "file_extension": ".py",
   "mimetype": "text/x-python",
   "name": "python",
   "nbconvert_exporter": "python",
   "pygments_lexer": "ipython3",
   "version": "3.10.17"
  }
 },
 "nbformat": 4,
 "nbformat_minor": 5
}
